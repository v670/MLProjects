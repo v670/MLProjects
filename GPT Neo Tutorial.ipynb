{
 "cells": [
  {
   "cell_type": "markdown",
   "metadata": {},
   "source": [
    "# 1. Install and Import Dependencies"
   ]
  },
  {
   "cell_type": "code",
   "execution_count": 1,
   "metadata": {
    "collapsed": true
   },
   "outputs": [
    {
     "name": "stdout",
     "output_type": "stream",
     "text": [
      "Looking in links: https://download.pytorch.org/whl/torch_stable.html\n",
      "Requirement already satisfied: torch==1.8.1+cu111 in d:\\youtube\\1-04-2021 - gpt neo\\gptneo\\lib\\site-packages (1.8.1+cu111)\n",
      "Requirement already satisfied: torchvision==0.9.1+cu111 in d:\\youtube\\1-04-2021 - gpt neo\\gptneo\\lib\\site-packages (0.9.1+cu111)\n",
      "Requirement already satisfied: torchaudio===0.8.1 in d:\\youtube\\1-04-2021 - gpt neo\\gptneo\\lib\\site-packages (0.8.1)\n",
      "Requirement already satisfied: numpy in d:\\youtube\\1-04-2021 - gpt neo\\gptneo\\lib\\site-packages (from torch==1.8.1+cu111) (1.20.2)\n",
      "Requirement already satisfied: typing-extensions in d:\\youtube\\1-04-2021 - gpt neo\\gptneo\\lib\\site-packages (from torch==1.8.1+cu111) (3.7.4.3)\n",
      "Requirement already satisfied: pillow>=4.1.1 in d:\\youtube\\1-04-2021 - gpt neo\\gptneo\\lib\\site-packages (from torchvision==0.9.1+cu111) (8.2.0)\n"
     ]
    }
   ],
   "source": [
    "!pip install torch==1.8.1+cu111 torchvision==0.9.1+cu111 torchaudio===0.8.1 -f https://download.pytorch.org/whl/torch_stable.html"
   ]
  },
  {
   "cell_type": "code",
   "execution_count": 2,
   "metadata": {
    "collapsed": true
   },
   "outputs": [
    {
     "name": "stdout",
     "output_type": "stream",
     "text": [
      "Requirement already satisfied: transformers in d:\\youtube\\1-04-2021 - gpt neo\\gptneo\\lib\\site-packages (4.5.1)\n",
      "Requirement already satisfied: sacremoses in d:\\youtube\\1-04-2021 - gpt neo\\gptneo\\lib\\site-packages (from transformers) (0.0.45)\n",
      "Requirement already satisfied: regex!=2019.12.17 in d:\\youtube\\1-04-2021 - gpt neo\\gptneo\\lib\\site-packages (from transformers) (2021.4.4)\n",
      "Requirement already satisfied: packaging in d:\\youtube\\1-04-2021 - gpt neo\\gptneo\\lib\\site-packages (from transformers) (20.9)\n",
      "Requirement already satisfied: tokenizers<0.11,>=0.10.1 in d:\\youtube\\1-04-2021 - gpt neo\\gptneo\\lib\\site-packages (from transformers) (0.10.2)\n",
      "Requirement already satisfied: tqdm>=4.27 in d:\\youtube\\1-04-2021 - gpt neo\\gptneo\\lib\\site-packages (from transformers) (4.60.0)\n",
      "Requirement already satisfied: importlib-metadata in d:\\youtube\\1-04-2021 - gpt neo\\gptneo\\lib\\site-packages (from transformers) (4.0.1)\n",
      "Requirement already satisfied: numpy>=1.17 in d:\\youtube\\1-04-2021 - gpt neo\\gptneo\\lib\\site-packages (from transformers) (1.20.2)\n",
      "Requirement already satisfied: filelock in d:\\youtube\\1-04-2021 - gpt neo\\gptneo\\lib\\site-packages (from transformers) (3.0.12)\n",
      "Requirement already satisfied: requests in d:\\youtube\\1-04-2021 - gpt neo\\gptneo\\lib\\site-packages (from transformers) (2.25.1)\n",
      "Requirement already satisfied: typing-extensions>=3.6.4 in d:\\youtube\\1-04-2021 - gpt neo\\gptneo\\lib\\site-packages (from importlib-metadata->transformers) (3.7.4.3)\n",
      "Requirement already satisfied: zipp>=0.5 in d:\\youtube\\1-04-2021 - gpt neo\\gptneo\\lib\\site-packages (from importlib-metadata->transformers) (3.4.1)\n",
      "Requirement already satisfied: pyparsing>=2.0.2 in d:\\youtube\\1-04-2021 - gpt neo\\gptneo\\lib\\site-packages (from packaging->transformers) (2.4.7)\n",
      "Requirement already satisfied: idna<3,>=2.5 in d:\\youtube\\1-04-2021 - gpt neo\\gptneo\\lib\\site-packages (from requests->transformers) (2.10)\n",
      "Requirement already satisfied: certifi>=2017.4.17 in d:\\youtube\\1-04-2021 - gpt neo\\gptneo\\lib\\site-packages (from requests->transformers) (2020.12.5)\n",
      "Requirement already satisfied: urllib3<1.27,>=1.21.1 in d:\\youtube\\1-04-2021 - gpt neo\\gptneo\\lib\\site-packages (from requests->transformers) (1.26.4)\n",
      "Requirement already satisfied: chardet<5,>=3.0.2 in d:\\youtube\\1-04-2021 - gpt neo\\gptneo\\lib\\site-packages (from requests->transformers) (4.0.0)\n",
      "Requirement already satisfied: joblib in d:\\youtube\\1-04-2021 - gpt neo\\gptneo\\lib\\site-packages (from sacremoses->transformers) (1.0.1)\n",
      "Requirement already satisfied: click in d:\\youtube\\1-04-2021 - gpt neo\\gptneo\\lib\\site-packages (from sacremoses->transformers) (7.1.2)\n",
      "Requirement already satisfied: six in d:\\youtube\\1-04-2021 - gpt neo\\gptneo\\lib\\site-packages (from sacremoses->transformers) (1.15.0)\n"
     ]
    }
   ],
   "source": [
    "!pip install transformers"
   ]
  },
  {
   "cell_type": "code",
   "execution_count": 3,
   "metadata": {},
   "outputs": [],
   "source": [
    "from transformers import pipeline # First line"
   ]
  },
  {
   "cell_type": "markdown",
   "metadata": {},
   "source": [
    "# 2. Setup Generator"
   ]
  },
  {
   "cell_type": "code",
   "execution_count": 4,
   "metadata": {},
   "outputs": [],
   "source": [
    "generator = pipeline('text-generation', model='EleutherAI/gpt-neo-2.7B') # Second line"
   ]
  },
  {
   "cell_type": "markdown",
   "metadata": {},
   "source": [
    "# 3. Generate Text using Prompt"
   ]
  },
  {
   "cell_type": "code",
   "execution_count": 19,
   "metadata": {},
   "outputs": [],
   "source": [
    "prompt = \"The current stock market\" # Third line"
   ]
  },
  {
   "cell_type": "code",
   "execution_count": 20,
   "metadata": {},
   "outputs": [
    {
     "name": "stderr",
     "output_type": "stream",
     "text": [
      "Setting `pad_token_id` to `eos_token_id`:50256 for open-end generation.\n"
     ]
    }
   ],
   "source": [
    "res = generator(prompt, max_length=50, do_sample=True, temperature=0.9) # Fourth line"
   ]
  },
  {
   "cell_type": "markdown",
   "metadata": {},
   "source": [
    "# 4. Output Text"
   ]
  },
  {
   "cell_type": "code",
   "execution_count": 21,
   "metadata": {},
   "outputs": [
    {
     "name": "stdout",
     "output_type": "stream",
     "text": [
      "The current stock market is a unique market, in that it incorporates some fundamental market characteristics together with market psychology, human judgment and human biases such as market timers, price momentum and crowd psychology. The stock market is, like any market for goods and services\n"
     ]
    }
   ],
   "source": [
    "print(res[0]['generated_text'])"
   ]
  },
  {
   "cell_type": "code",
   "execution_count": 22,
   "metadata": {},
   "outputs": [],
   "source": [
    "with open('gpttext.txt', 'w') as f:\n",
    "    f.writelines(res[0]['generated_text'])"
   ]
  }
 ],
 "metadata": {
  "kernelspec": {
   "display_name": "gptneo",
   "language": "python",
   "name": "gptneo"
  },
  "language_info": {
   "codemirror_mode": {
    "name": "ipython",
    "version": 3
   },
   "file_extension": ".py",
   "mimetype": "text/x-python",
   "name": "python",
   "nbconvert_exporter": "python",
   "pygments_lexer": "ipython3",
   "version": "3.7.3"
  }
 },
 "nbformat": 4,
 "nbformat_minor": 2
}
